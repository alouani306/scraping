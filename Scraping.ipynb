{
 "cells": [
  {
   "cell_type": "code",
   "execution_count": 1,
   "metadata": {},
   "outputs": [],
   "source": [
    "import pandas  as pd\n",
    "import numpy as  np\n",
    "import selenium as sl\n",
    "from selenium import webdriver\n",
    "from selenium.webdriver.common.keys import Keys\n",
    "import re\n",
    "import requests\n",
    "import json\n",
    "\n",
    "from pprint import pprint"
   ]
  },
  {
   "cell_type": "code",
   "execution_count": 2,
   "metadata": {},
   "outputs": [],
   "source": [
    "driver = webdriver.Chrome(\"chromedriver.exe\")"
   ]
  },
  {
   "cell_type": "code",
   "execution_count": 39,
   "metadata": {},
   "outputs": [],
   "source": [
    "driver.get(\"https://www.stephaneplazaimmobilier.com/\")"
   ]
  },
  {
   "cell_type": "code",
   "execution_count": 6,
   "metadata": {},
   "outputs": [],
   "source": [
    "def fermer_popup():\n",
    "    driver.find_element_by_xpath('//*[@id=\"home-popup\"]/div/div[1]/button/i').click()"
   ]
  },
  {
   "cell_type": "code",
   "execution_count": 15,
   "metadata": {
    "scrolled": true
   },
   "outputs": [],
   "source": [
    "fermer_popup()"
   ]
  },
  {
   "cell_type": "markdown",
   "metadata": {},
   "source": [
    "## create_link_ville"
   ]
  },
  {
   "cell_type": "code",
   "execution_count": 18,
   "metadata": {},
   "outputs": [],
   "source": [
    "def check_exist(a,b):\n",
    "    list_a=a.split(\" \")\n",
    "    return all(x in b for x in list_a)\n",
    "def create_link_ville(ville):\n",
    "    from time import sleep\n",
    "    elem = driver.find_element_by_class_name(\"el-select__input\")\n",
    "    elem.send_keys(Keys.LEFT_SHIFT ,Keys.LEFT_CONTROL  ,Keys.LEFT )\n",
    "    elem.send_keys(Keys.DELETE )\n",
    "    elem.send_keys(ville)\n",
    "    sleep(5)\n",
    "    els = driver.find_elements_by_class_name('el-select-dropdown__item')\n",
    "    sleep(5)\n",
    "    for el in els:\n",
    "        for option in el.find_elements_by_tag_name('span'):\n",
    "            if check_exist(ville, re.findall(r'<span>(.*?)</span>',el.get_attribute('innerHTML'))[0]):\n",
    "                sleep(5)\n",
    "                option.click()\n",
    "                \n",
    "                break\n",
    "    sleep(3)\n",
    "    submit_button = driver.find_elements_by_xpath('//*[@id=\"search\"]/div[1]/div[2]/form/div[3]/button')[0]\n",
    "    submit_button.click()\n",
    "    sleep(10)\n",
    "    return str(driver.current_url)"
   ]
  },
  {
   "cell_type": "code",
   "execution_count": 80,
   "metadata": {},
   "outputs": [],
   "source": [
    "def select_type(t):\n",
    "    er=0\n",
    "    for i in range(len(driver.find_elements_by_xpath('//*[@id=\"search\"]//label'))):\n",
    "\n",
    "        if driver.find_elements_by_xpath('//*[@id=\"search\"]//label')[i].get_attribute('innerHTML').lower() == t.lower():\n",
    "            driver.find_elements_by_xpath('//*[@id=\"search\"]//label')[i].click()\n",
    "            er=1\n",
    "    if er==0 :print(\"parameter not found please type either 'LOUER' or 'ACHETER'\") \n"
   ]
  },
  {
   "cell_type": "code",
   "execution_count": 84,
   "metadata": {},
   "outputs": [
    {
     "data": {
      "text/plain": [
       "'https://www.stephaneplazaimmobilier.com/immobilier-acheter?target=rent&location=75112&now=1&page=1'"
      ]
     },
     "execution_count": 84,
     "metadata": {},
     "output_type": "execute_result"
    }
   ],
   "source": [
    "select_type(\"LOUER\")\n",
    "ou='Paris 12ème arrondissement'\n",
    "link_ville=create_link_ville(ou)\n",
    "link_ville"
   ]
  },
  {
   "cell_type": "markdown",
   "metadata": {},
   "source": [
    "## create_links_annonces"
   ]
  },
  {
   "cell_type": "code",
   "execution_count": 85,
   "metadata": {},
   "outputs": [],
   "source": [
    "def get_post_links(lin):\n",
    "    driver.get(lin)\n",
    "    from time import sleep\n",
    "    sleep(8)\n",
    "    a=1\n",
    "    while a==1 :\n",
    "        current_page=re.findall('\\d+$',str(driver.current_url) )[0]\n",
    "        try :\n",
    "            \n",
    "            element = driver.find_element_by_xpath(\"(//div[contains(@class, 'room purchase')])[last()]\")\n",
    "            element.location_once_scrolled_into_view\n",
    "        except:\n",
    "            print(\"error No data\")\n",
    "        sleep(5)\n",
    "        last_page=re.findall('\\d+$',str(driver.current_url) )[0]\n",
    "        if (current_page == last_page):\n",
    "            a=0\n",
    "    sleep(2)\n",
    "    links = []\n",
    "    i=0\n",
    "    for l in  driver.find_elements_by_xpath(\"(//a[contains(@class, 'title-wrap')])\"):\n",
    "        links.append(l.get_attribute('href'))\n",
    "    return links"
   ]
  },
  {
   "cell_type": "code",
   "execution_count": 21,
   "metadata": {},
   "outputs": [],
   "source": [
    "list_links=[]\n",
    "list_links= get_post_links(link_ville)"
   ]
  },
  {
   "cell_type": "markdown",
   "metadata": {},
   "source": [
    "## formater_annonce"
   ]
  },
  {
   "cell_type": "code",
   "execution_count": 33,
   "metadata": {
    "scrolled": false
   },
   "outputs": [],
   "source": [
    "def scraping_LINKS(l):\n",
    "    from time import sleep\n",
    "    df_list=[]\n",
    "    j=0\n",
    "    for i in l:\n",
    "        j+=1\n",
    "        sleep(5)\n",
    "        driver.get(i)\n",
    "        d=formater_annonce()\n",
    "        df_list.append(d)\n",
    "        print(str(j)+\"//\"+str(d))\n",
    "    return df_list"
   ]
  },
  {
   "cell_type": "code",
   "execution_count": 34,
   "metadata": {},
   "outputs": [],
   "source": [
    "def formater_annonce():\n",
    "    # ID annonce\n",
    "    id_annonce = re.findall('/\\d+/',str(driver.current_url) )[0].replace('/','')\n",
    "    element=driver.find_element_by_class_name(\"fiche-de-wrap\")\n",
    "    html_description=str(element.get_attribute('innerHTML'))\n",
    "    # Type de Bien\n",
    "    type_bein=re.findall('<label>Type de bien</label> <span class=\"value\">(.*?)</span>',re.sub(r'\\s\\s+', ' ', html_description))[0].strip()\n",
    "    # Type_bien_corrige\n",
    "    Type_bien_corrige= type_bein if type_bein==\"Appartement\" else type_bein[0].upper()\n",
    "    # Surface\n",
    "    surface=int(re.findall(\"^\\d+\",re.findall('<label>Surface</label> <span class=\"value\">(.*?)</span>',re.sub(r'\\s\\s+', ' ', html_description))[0].strip())[0])\n",
    "    # PRIX\n",
    "    prix_bien=int(re.sub(r\"\\s+\", \"\",re.findall(\"\\d*\\s*\\d*\",re.findall('<label>Prix de vente</label> <span class=\"value\">(.*?)</span>',re.sub(r'\\s\\s+', ' ', html_description))[0].strip())[0] ))\n",
    "    # Coordination\n",
    "    ele=driver.find_element_by_xpath(\"(//div[@id='cityscan-widget'])\")\n",
    "    html_cityscan=str(ele.get_attribute('innerHTML'))\n",
    "    json_url=re.sub(r\"amp;\", \"\",re.sub(r\"%3A\", \":\",re.findall('src=\"(.*?)\"',html_cityscan)[0].strip()))\n",
    "    raw = requests.get(json_url).text\n",
    "    raw=re.sub(r'\\s+', '', raw)\n",
    "    longitude=float(re.findall('\"lon\":(.*?),',raw)[0])\n",
    "    lattitude=float(re.findall('\"lat\":(.*?),',raw)[0])\n",
    "    return [id_annonce,type_bein,Type_bien_corrige,surface,longitude,lattitude,prix_bien]"
   ]
  },
  {
   "cell_type": "code",
   "execution_count": 36,
   "metadata": {},
   "outputs": [
    {
     "name": "stdout",
     "output_type": "stream",
     "text": [
      "1//['2496889', 'Appartement', 'Appartement', 51, 2.40489, 48.842157, 537500]\n",
      "2//['2496752', 'Appartement', 'Appartement', 43, 2.407693, 48.845402, 400000]\n",
      "3//['1997588', 'Appartement', 'Appartement', 33, 2.377109, 48.841522, 349500]\n",
      "4//['2293380', 'Appartement', 'Appartement', 24, 2.384823, 48.849557, 310000]\n",
      "5//['1843928', 'Appartement', 'Appartement', 20, 2.403681, 48.841785, 224600]\n",
      "6//['2293067', 'Appartement', 'Appartement', 43, 2.305336, 48.843353, 449900]\n",
      "7//['2486727', 'Appartement', 'Appartement', 74, 2.396388, 48.832873, 780000]\n",
      "8//['1715172', 'Appartement', 'Appartement', 28, 2.389965, 48.840425, 398000]\n",
      "9//['2429690', 'Parking / box', 'P', 13, 2.393023, 48.842026, 25000]\n",
      "10//['2370163', 'Appartement', 'Appartement', 77, 2.409114, 48.841521, 765000]\n",
      "11//['2460586', 'Appartement', 'Appartement', 74, 2.396388, 48.832873, 780000]\n",
      "12//['2336228', 'Appartement', 'Appartement', 15, 2.379975, 48.845908, 179500]\n",
      "13//['2371974', 'Appartement', 'Appartement', 52, 1.999276, 48.829223, 599500]\n",
      "14//['2325844', 'Appartement', 'Appartement', 62, 2.388962, 48.848122, 598500]\n",
      "15//['2289664', 'Appartement', 'Appartement', 50, 2.305336, 48.843353, 615000]\n",
      "16//['2366856', 'Appartement', 'Appartement', 24, 2.384823, 48.849557, 310000]\n",
      "17//['1963187', 'Appartement', 'Appartement', 45, 2.38637, 48.840575, 500000]\n",
      "18//['2420646', 'Appartement', 'Appartement', 50, 2.380851, 48.849284, 515000]\n",
      "19//['2261450', 'Appartement', 'Appartement', 28, 2.389965, 48.840425, 398000]\n",
      "20//['2347444', 'Parking / box', 'P', 12, 2.398103, 48.842134, 27000]\n"
     ]
    }
   ],
   "source": [
    "list_=[]\n",
    "list_=scraping_LINKS(list_links)"
   ]
  },
  {
   "cell_type": "code",
   "execution_count": 37,
   "metadata": {},
   "outputs": [
    {
     "data": {
      "text/html": [
       "<div>\n",
       "<style scoped>\n",
       "    .dataframe tbody tr th:only-of-type {\n",
       "        vertical-align: middle;\n",
       "    }\n",
       "\n",
       "    .dataframe tbody tr th {\n",
       "        vertical-align: top;\n",
       "    }\n",
       "\n",
       "    .dataframe thead th {\n",
       "        text-align: right;\n",
       "    }\n",
       "</style>\n",
       "<table border=\"1\" class=\"dataframe\">\n",
       "  <thead>\n",
       "    <tr style=\"text-align: right;\">\n",
       "      <th></th>\n",
       "      <th>id_annonce</th>\n",
       "      <th>type_bein</th>\n",
       "      <th>Type_bien_corrige</th>\n",
       "      <th>surface</th>\n",
       "      <th>longitude</th>\n",
       "      <th>lattitude</th>\n",
       "      <th>prix_bien</th>\n",
       "    </tr>\n",
       "  </thead>\n",
       "  <tbody>\n",
       "    <tr>\n",
       "      <th>0</th>\n",
       "      <td>2496889</td>\n",
       "      <td>Appartement</td>\n",
       "      <td>Appartement</td>\n",
       "      <td>51</td>\n",
       "      <td>2.404890</td>\n",
       "      <td>48.842157</td>\n",
       "      <td>537500</td>\n",
       "    </tr>\n",
       "    <tr>\n",
       "      <th>1</th>\n",
       "      <td>2496752</td>\n",
       "      <td>Appartement</td>\n",
       "      <td>Appartement</td>\n",
       "      <td>43</td>\n",
       "      <td>2.407693</td>\n",
       "      <td>48.845402</td>\n",
       "      <td>400000</td>\n",
       "    </tr>\n",
       "    <tr>\n",
       "      <th>2</th>\n",
       "      <td>1997588</td>\n",
       "      <td>Appartement</td>\n",
       "      <td>Appartement</td>\n",
       "      <td>33</td>\n",
       "      <td>2.377109</td>\n",
       "      <td>48.841522</td>\n",
       "      <td>349500</td>\n",
       "    </tr>\n",
       "    <tr>\n",
       "      <th>3</th>\n",
       "      <td>2293380</td>\n",
       "      <td>Appartement</td>\n",
       "      <td>Appartement</td>\n",
       "      <td>24</td>\n",
       "      <td>2.384823</td>\n",
       "      <td>48.849557</td>\n",
       "      <td>310000</td>\n",
       "    </tr>\n",
       "    <tr>\n",
       "      <th>4</th>\n",
       "      <td>1843928</td>\n",
       "      <td>Appartement</td>\n",
       "      <td>Appartement</td>\n",
       "      <td>20</td>\n",
       "      <td>2.403681</td>\n",
       "      <td>48.841785</td>\n",
       "      <td>224600</td>\n",
       "    </tr>\n",
       "    <tr>\n",
       "      <th>5</th>\n",
       "      <td>2293067</td>\n",
       "      <td>Appartement</td>\n",
       "      <td>Appartement</td>\n",
       "      <td>43</td>\n",
       "      <td>2.305336</td>\n",
       "      <td>48.843353</td>\n",
       "      <td>449900</td>\n",
       "    </tr>\n",
       "    <tr>\n",
       "      <th>6</th>\n",
       "      <td>2486727</td>\n",
       "      <td>Appartement</td>\n",
       "      <td>Appartement</td>\n",
       "      <td>74</td>\n",
       "      <td>2.396388</td>\n",
       "      <td>48.832873</td>\n",
       "      <td>780000</td>\n",
       "    </tr>\n",
       "    <tr>\n",
       "      <th>7</th>\n",
       "      <td>1715172</td>\n",
       "      <td>Appartement</td>\n",
       "      <td>Appartement</td>\n",
       "      <td>28</td>\n",
       "      <td>2.389965</td>\n",
       "      <td>48.840425</td>\n",
       "      <td>398000</td>\n",
       "    </tr>\n",
       "    <tr>\n",
       "      <th>8</th>\n",
       "      <td>2429690</td>\n",
       "      <td>Parking / box</td>\n",
       "      <td>P</td>\n",
       "      <td>13</td>\n",
       "      <td>2.393023</td>\n",
       "      <td>48.842026</td>\n",
       "      <td>25000</td>\n",
       "    </tr>\n",
       "    <tr>\n",
       "      <th>9</th>\n",
       "      <td>2370163</td>\n",
       "      <td>Appartement</td>\n",
       "      <td>Appartement</td>\n",
       "      <td>77</td>\n",
       "      <td>2.409114</td>\n",
       "      <td>48.841521</td>\n",
       "      <td>765000</td>\n",
       "    </tr>\n",
       "    <tr>\n",
       "      <th>10</th>\n",
       "      <td>2460586</td>\n",
       "      <td>Appartement</td>\n",
       "      <td>Appartement</td>\n",
       "      <td>74</td>\n",
       "      <td>2.396388</td>\n",
       "      <td>48.832873</td>\n",
       "      <td>780000</td>\n",
       "    </tr>\n",
       "    <tr>\n",
       "      <th>11</th>\n",
       "      <td>2336228</td>\n",
       "      <td>Appartement</td>\n",
       "      <td>Appartement</td>\n",
       "      <td>15</td>\n",
       "      <td>2.379975</td>\n",
       "      <td>48.845908</td>\n",
       "      <td>179500</td>\n",
       "    </tr>\n",
       "    <tr>\n",
       "      <th>12</th>\n",
       "      <td>2371974</td>\n",
       "      <td>Appartement</td>\n",
       "      <td>Appartement</td>\n",
       "      <td>52</td>\n",
       "      <td>1.999276</td>\n",
       "      <td>48.829223</td>\n",
       "      <td>599500</td>\n",
       "    </tr>\n",
       "    <tr>\n",
       "      <th>13</th>\n",
       "      <td>2325844</td>\n",
       "      <td>Appartement</td>\n",
       "      <td>Appartement</td>\n",
       "      <td>62</td>\n",
       "      <td>2.388962</td>\n",
       "      <td>48.848122</td>\n",
       "      <td>598500</td>\n",
       "    </tr>\n",
       "    <tr>\n",
       "      <th>14</th>\n",
       "      <td>2289664</td>\n",
       "      <td>Appartement</td>\n",
       "      <td>Appartement</td>\n",
       "      <td>50</td>\n",
       "      <td>2.305336</td>\n",
       "      <td>48.843353</td>\n",
       "      <td>615000</td>\n",
       "    </tr>\n",
       "    <tr>\n",
       "      <th>15</th>\n",
       "      <td>2366856</td>\n",
       "      <td>Appartement</td>\n",
       "      <td>Appartement</td>\n",
       "      <td>24</td>\n",
       "      <td>2.384823</td>\n",
       "      <td>48.849557</td>\n",
       "      <td>310000</td>\n",
       "    </tr>\n",
       "    <tr>\n",
       "      <th>16</th>\n",
       "      <td>1963187</td>\n",
       "      <td>Appartement</td>\n",
       "      <td>Appartement</td>\n",
       "      <td>45</td>\n",
       "      <td>2.386370</td>\n",
       "      <td>48.840575</td>\n",
       "      <td>500000</td>\n",
       "    </tr>\n",
       "    <tr>\n",
       "      <th>17</th>\n",
       "      <td>2420646</td>\n",
       "      <td>Appartement</td>\n",
       "      <td>Appartement</td>\n",
       "      <td>50</td>\n",
       "      <td>2.380851</td>\n",
       "      <td>48.849284</td>\n",
       "      <td>515000</td>\n",
       "    </tr>\n",
       "    <tr>\n",
       "      <th>18</th>\n",
       "      <td>2261450</td>\n",
       "      <td>Appartement</td>\n",
       "      <td>Appartement</td>\n",
       "      <td>28</td>\n",
       "      <td>2.389965</td>\n",
       "      <td>48.840425</td>\n",
       "      <td>398000</td>\n",
       "    </tr>\n",
       "    <tr>\n",
       "      <th>19</th>\n",
       "      <td>2347444</td>\n",
       "      <td>Parking / box</td>\n",
       "      <td>P</td>\n",
       "      <td>12</td>\n",
       "      <td>2.398103</td>\n",
       "      <td>48.842134</td>\n",
       "      <td>27000</td>\n",
       "    </tr>\n",
       "  </tbody>\n",
       "</table>\n",
       "</div>"
      ],
      "text/plain": [
       "   id_annonce      type_bein Type_bien_corrige  surface  longitude  lattitude  \\\n",
       "0     2496889    Appartement       Appartement       51   2.404890  48.842157   \n",
       "1     2496752    Appartement       Appartement       43   2.407693  48.845402   \n",
       "2     1997588    Appartement       Appartement       33   2.377109  48.841522   \n",
       "3     2293380    Appartement       Appartement       24   2.384823  48.849557   \n",
       "4     1843928    Appartement       Appartement       20   2.403681  48.841785   \n",
       "5     2293067    Appartement       Appartement       43   2.305336  48.843353   \n",
       "6     2486727    Appartement       Appartement       74   2.396388  48.832873   \n",
       "7     1715172    Appartement       Appartement       28   2.389965  48.840425   \n",
       "8     2429690  Parking / box                 P       13   2.393023  48.842026   \n",
       "9     2370163    Appartement       Appartement       77   2.409114  48.841521   \n",
       "10    2460586    Appartement       Appartement       74   2.396388  48.832873   \n",
       "11    2336228    Appartement       Appartement       15   2.379975  48.845908   \n",
       "12    2371974    Appartement       Appartement       52   1.999276  48.829223   \n",
       "13    2325844    Appartement       Appartement       62   2.388962  48.848122   \n",
       "14    2289664    Appartement       Appartement       50   2.305336  48.843353   \n",
       "15    2366856    Appartement       Appartement       24   2.384823  48.849557   \n",
       "16    1963187    Appartement       Appartement       45   2.386370  48.840575   \n",
       "17    2420646    Appartement       Appartement       50   2.380851  48.849284   \n",
       "18    2261450    Appartement       Appartement       28   2.389965  48.840425   \n",
       "19    2347444  Parking / box                 P       12   2.398103  48.842134   \n",
       "\n",
       "    prix_bien  \n",
       "0      537500  \n",
       "1      400000  \n",
       "2      349500  \n",
       "3      310000  \n",
       "4      224600  \n",
       "5      449900  \n",
       "6      780000  \n",
       "7      398000  \n",
       "8       25000  \n",
       "9      765000  \n",
       "10     780000  \n",
       "11     179500  \n",
       "12     599500  \n",
       "13     598500  \n",
       "14     615000  \n",
       "15     310000  \n",
       "16     500000  \n",
       "17     515000  \n",
       "18     398000  \n",
       "19      27000  "
      ]
     },
     "execution_count": 37,
     "metadata": {},
     "output_type": "execute_result"
    }
   ],
   "source": [
    "df = pd.DataFrame(list_,columns =[\"id_annonce\",\"type_bein\",\"Type_bien_corrige\",\"surface\",\"longitude\",\"lattitude\",\"prix_bien\"])\n",
    "df"
   ]
  },
  {
   "cell_type": "markdown",
   "metadata": {},
   "source": [
    "## To JSON"
   ]
  },
  {
   "cell_type": "code",
   "execution_count": 38,
   "metadata": {},
   "outputs": [
    {
     "data": {
      "text/plain": [
       "'[{\"id_annonce\":\"2496889\",\"type_bein\":\"Appartement\",\"Type_bien_corrige\":\"Appartement\",\"surface\":51,\"longitude\":2.40489,\"lattitude\":48.842157,\"prix_bien\":537500},{\"id_annonce\":\"2496752\",\"type_bein\":\"Appartement\",\"Type_bien_corrige\":\"Appartement\",\"surface\":43,\"longitude\":2.407693,\"lattitude\":48.845402,\"prix_bien\":400000},{\"id_annonce\":\"1997588\",\"type_bein\":\"Appartement\",\"Type_bien_corrige\":\"Appartement\",\"surface\":33,\"longitude\":2.377109,\"lattitude\":48.841522,\"prix_bien\":349500},{\"id_annonce\":\"2293380\",\"type_bein\":\"Appartement\",\"Type_bien_corrige\":\"Appartement\",\"surface\":24,\"longitude\":2.384823,\"lattitude\":48.849557,\"prix_bien\":310000},{\"id_annonce\":\"1843928\",\"type_bein\":\"Appartement\",\"Type_bien_corrige\":\"Appartement\",\"surface\":20,\"longitude\":2.403681,\"lattitude\":48.841785,\"prix_bien\":224600},{\"id_annonce\":\"2293067\",\"type_bein\":\"Appartement\",\"Type_bien_corrige\":\"Appartement\",\"surface\":43,\"longitude\":2.305336,\"lattitude\":48.843353,\"prix_bien\":449900},{\"id_annonce\":\"2486727\",\"type_bein\":\"Appartement\",\"Type_bien_corrige\":\"Appartement\",\"surface\":74,\"longitude\":2.396388,\"lattitude\":48.832873,\"prix_bien\":780000},{\"id_annonce\":\"1715172\",\"type_bein\":\"Appartement\",\"Type_bien_corrige\":\"Appartement\",\"surface\":28,\"longitude\":2.389965,\"lattitude\":48.840425,\"prix_bien\":398000},{\"id_annonce\":\"2429690\",\"type_bein\":\"Parking \\\\/ box\",\"Type_bien_corrige\":\"P\",\"surface\":13,\"longitude\":2.393023,\"lattitude\":48.842026,\"prix_bien\":25000},{\"id_annonce\":\"2370163\",\"type_bein\":\"Appartement\",\"Type_bien_corrige\":\"Appartement\",\"surface\":77,\"longitude\":2.409114,\"lattitude\":48.841521,\"prix_bien\":765000},{\"id_annonce\":\"2460586\",\"type_bein\":\"Appartement\",\"Type_bien_corrige\":\"Appartement\",\"surface\":74,\"longitude\":2.396388,\"lattitude\":48.832873,\"prix_bien\":780000},{\"id_annonce\":\"2336228\",\"type_bein\":\"Appartement\",\"Type_bien_corrige\":\"Appartement\",\"surface\":15,\"longitude\":2.379975,\"lattitude\":48.845908,\"prix_bien\":179500},{\"id_annonce\":\"2371974\",\"type_bein\":\"Appartement\",\"Type_bien_corrige\":\"Appartement\",\"surface\":52,\"longitude\":1.999276,\"lattitude\":48.829223,\"prix_bien\":599500},{\"id_annonce\":\"2325844\",\"type_bein\":\"Appartement\",\"Type_bien_corrige\":\"Appartement\",\"surface\":62,\"longitude\":2.388962,\"lattitude\":48.848122,\"prix_bien\":598500},{\"id_annonce\":\"2289664\",\"type_bein\":\"Appartement\",\"Type_bien_corrige\":\"Appartement\",\"surface\":50,\"longitude\":2.305336,\"lattitude\":48.843353,\"prix_bien\":615000},{\"id_annonce\":\"2366856\",\"type_bein\":\"Appartement\",\"Type_bien_corrige\":\"Appartement\",\"surface\":24,\"longitude\":2.384823,\"lattitude\":48.849557,\"prix_bien\":310000},{\"id_annonce\":\"1963187\",\"type_bein\":\"Appartement\",\"Type_bien_corrige\":\"Appartement\",\"surface\":45,\"longitude\":2.38637,\"lattitude\":48.840575,\"prix_bien\":500000},{\"id_annonce\":\"2420646\",\"type_bein\":\"Appartement\",\"Type_bien_corrige\":\"Appartement\",\"surface\":50,\"longitude\":2.380851,\"lattitude\":48.849284,\"prix_bien\":515000},{\"id_annonce\":\"2261450\",\"type_bein\":\"Appartement\",\"Type_bien_corrige\":\"Appartement\",\"surface\":28,\"longitude\":2.389965,\"lattitude\":48.840425,\"prix_bien\":398000},{\"id_annonce\":\"2347444\",\"type_bein\":\"Parking \\\\/ box\",\"Type_bien_corrige\":\"P\",\"surface\":12,\"longitude\":2.398103,\"lattitude\":48.842134,\"prix_bien\":27000}]'"
      ]
     },
     "execution_count": 38,
     "metadata": {},
     "output_type": "execute_result"
    }
   ],
   "source": [
    "out = df.to_json(orient='records')\n",
    "out"
   ]
  },
  {
   "cell_type": "code",
   "execution_count": null,
   "metadata": {},
   "outputs": [],
   "source": [
    "with open('annonces .txt', 'w') as f:\n",
    "    f.write(out)"
   ]
  },
  {
   "cell_type": "code",
   "execution_count": null,
   "metadata": {},
   "outputs": [],
   "source": []
  }
 ],
 "metadata": {
  "kernelspec": {
   "display_name": "Python 3",
   "language": "python",
   "name": "python3"
  },
  "language_info": {
   "codemirror_mode": {
    "name": "ipython",
    "version": 3
   },
   "file_extension": ".py",
   "mimetype": "text/x-python",
   "name": "python",
   "nbconvert_exporter": "python",
   "pygments_lexer": "ipython3",
   "version": "3.7.1"
  }
 },
 "nbformat": 4,
 "nbformat_minor": 4
}
